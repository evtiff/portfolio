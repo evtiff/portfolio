{
 "cells": [
  {
   "cell_type": "code",
   "execution_count": 164,
   "id": "6c32e4df",
   "metadata": {},
   "outputs": [],
   "source": [
    "import pandas as pd\n",
    "\n",
    "allclean = pd.read_csv(\"all.csv\")"
   ]
  },
  {
   "cell_type": "code",
   "execution_count": 165,
   "id": "0281b81e",
   "metadata": {},
   "outputs": [],
   "source": [
    "newp = []\n",
    "for p in allclean[\"price\"]:\n",
    "    newp.append(int(p.strip(\"$\").replace(\",\", \"\")))\n",
    "allclean[\"price\"] = newp"
   ]
  },
  {
   "cell_type": "code",
   "execution_count": 166,
   "id": "b3b279fc",
   "metadata": {},
   "outputs": [],
   "source": [
    "descrip = []\n",
    "for d in allclean[\"desc\"]:\n",
    "    des = \"\"\n",
    "    for s in d.split(\"\\n\\n\\n\")[1].split(\"\\n\"):\n",
    "        des += s\n",
    "    descrip.append(des.lower())\n",
    "allclean[\"desc\"] = descrip"
   ]
  },
  {
   "cell_type": "code",
   "execution_count": 167,
   "id": "94a9f17c",
   "metadata": {},
   "outputs": [],
   "source": [
    "places = []\n",
    "for p in allclean[\"place\"]:\n",
    "    places.append(p.strip(\" (\").strip(\")\"))\n",
    "allclean[\"place\"] = places"
   ]
  },
  {
   "cell_type": "code",
   "execution_count": 168,
   "id": "925bc19c",
   "metadata": {},
   "outputs": [],
   "source": [
    "allclean[\"title\"] = allclean[\"title\"].str.lower()"
   ]
  },
  {
   "cell_type": "code",
   "execution_count": 169,
   "id": "821195be",
   "metadata": {},
   "outputs": [],
   "source": [
    "allclean.to_csv(\"allclean.csv\")"
   ]
  },
  {
   "cell_type": "code",
   "execution_count": 170,
   "id": "4a554253",
   "metadata": {},
   "outputs": [],
   "source": [
    "brands = {\"Microsoft\": [\"xbox\", \"microsoft\", \"360\", \"xbox one\", \" rig \", \"x box\", \"series x\", \"series s\", \"halo\",\"kinect\"], \"Nintendo\": [\"wii\", \"gamecube\", \"game cube\", \" ds \", \"gameboy\", \"nintendo\", \"switch\", \"cube\", \"lite\", \" dsi \", \"2ds\", \"wii fit\", \"nunchuck\", \"game boy\", \"game boy\", \"onyx\", \"oled\", \"3ds\", \"gba\",\"wii remote\"], \"Sony\": [\"playstation\", \"play station\", \" ps \", \"sony\", \" psp \", \"ps4\", \"ps3\", \"ps5\", \"ps vr\", \"pro\", \"ps4 slim\"], \"Arcade\": [\"arcade\", \"atari\", \"slot machine\", \"pinball\", \"machine\"], \"Meta\": [\"oculus\", \"meta\", \"quest\", \"quest 2\", \"vr headset\", \"rift\", \"quest 2 elite\", \"touch controller\", \"halo headband\", \"head strap\"]}"
   ]
  },
  {
   "cell_type": "code",
   "execution_count": 177,
   "id": "88a2d2ed",
   "metadata": {},
   "outputs": [],
   "source": [
    "import numpy as np\n",
    "for brand in brands:\n",
    "    allclean[brand] = np.repeat(0, 3011)\n",
    "    for word in brands[brand]:\n",
    "        allclean[brand] += allclean.title.str.contains(word)\n",
    "        allclean[brand] += allclean.desc.str.contains(word)"
   ]
  },
  {
   "cell_type": "code",
   "execution_count": 172,
   "id": "2493819b",
   "metadata": {},
   "outputs": [],
   "source": [
    "allclean[\"Other\"] = np.repeat(0.5, 3011)"
   ]
  },
  {
   "cell_type": "code",
   "execution_count": 192,
   "id": "85953a3e",
   "metadata": {
    "scrolled": true
   },
   "outputs": [],
   "source": [
    "allclean[\"Brand\"] = allclean.iloc[:,-6:].idxmax(1)\n"
   ]
  },
  {
   "cell_type": "code",
   "execution_count": 195,
   "id": "2b6457d7",
   "metadata": {},
   "outputs": [],
   "source": [
    "allclean.to_csv(\"allcleanwithbrand.csv\")"
   ]
  },
  {
   "cell_type": "code",
   "execution_count": 196,
   "id": "1937f235",
   "metadata": {},
   "outputs": [
    {
     "data": {
      "text/plain": [
       "Sony         1012\n",
       "Nintendo      755\n",
       "Microsoft     643\n",
       "Other         380\n",
       "Arcade        177\n",
       "Meta           44\n",
       "Name: Brand, dtype: int64"
      ]
     },
     "execution_count": 196,
     "metadata": {},
     "output_type": "execute_result"
    }
   ],
   "source": [
    "allclean[\"Brand\"].value_counts()"
   ]
  },
  {
   "cell_type": "code",
   "execution_count": 197,
   "id": "a32d3b13",
   "metadata": {},
   "outputs": [],
   "source": [
    "types = {\"Game\": [\"HALO\", \"mario\", \"game\", \"pack\", \" dlc \", \" dlcs \", \" ea \"], \"Accessory\": [\"hd camera\", \"headset\", \"controller\", \"accessory\", \"attachment\", \"nunchuck\", \"remote\", \"pedals\", \"charger\", \"head strap\", \"ssd\", \"memory card\", \"carrying case\", \"screen protector\", \"monitor\", \"stool\", \"connector\", \"gamepad\", \"usb\", \"headphone\"], \"Console\": [\"xbox\", \"dual\", \"xbox wireless\", \"switch\", \"joy-con\", \"arcade\", \"machine\", \" ds \", \"handheld\", \"console\"]}"
   ]
  }
 ],
 "metadata": {
  "kernelspec": {
   "display_name": "Python 3",
   "language": "python",
   "name": "python3"
  },
  "language_info": {
   "codemirror_mode": {
    "name": "ipython",
    "version": 3
   },
   "file_extension": ".py",
   "mimetype": "text/x-python",
   "name": "python",
   "nbconvert_exporter": "python",
   "pygments_lexer": "ipython3",
   "version": "3.8.8"
  }
 },
 "nbformat": 4,
 "nbformat_minor": 5
}
