{
 "cells": [
  {
   "cell_type": "code",
   "execution_count": 45,
   "id": "a6d9ea88",
   "metadata": {},
   "outputs": [],
   "source": [
    "import pandas as pd\n",
    "from datetime import datetime"
   ]
  },
  {
   "cell_type": "code",
   "execution_count": 384,
   "id": "cd3e3a50",
   "metadata": {},
   "outputs": [
    {
     "ename": "ParserError",
     "evalue": "Error tokenizing data. C error: Calling read(nbytes) on source failed. Try engine='python'.",
     "output_type": "error",
     "traceback": [
      "\u001b[1;31m---------------------------------------------------------------------------\u001b[0m",
      "\u001b[1;31mParserError\u001b[0m                               Traceback (most recent call last)",
      "\u001b[1;32m~\\AppData\\Local\\Temp/ipykernel_5596/1499933277.py\u001b[0m in \u001b[0;36m<module>\u001b[1;34m\u001b[0m\n\u001b[1;32m----> 1\u001b[1;33m \u001b[0mdf\u001b[0m\u001b[1;33m=\u001b[0m\u001b[0mpd\u001b[0m\u001b[1;33m.\u001b[0m\u001b[0mread_csv\u001b[0m\u001b[1;33m(\u001b[0m\u001b[1;34m'steam_reviews.csv'\u001b[0m\u001b[1;33m)\u001b[0m\u001b[1;33m\u001b[0m\u001b[1;33m\u001b[0m\u001b[0m\n\u001b[0m",
      "\u001b[1;32mc:\\users\\hroha\\appdata\\local\\programs\\python\\python39\\lib\\site-packages\\pandas\\util\\_decorators.py\u001b[0m in \u001b[0;36mwrapper\u001b[1;34m(*args, **kwargs)\u001b[0m\n\u001b[0;32m    309\u001b[0m                     \u001b[0mstacklevel\u001b[0m\u001b[1;33m=\u001b[0m\u001b[0mstacklevel\u001b[0m\u001b[1;33m,\u001b[0m\u001b[1;33m\u001b[0m\u001b[1;33m\u001b[0m\u001b[0m\n\u001b[0;32m    310\u001b[0m                 )\n\u001b[1;32m--> 311\u001b[1;33m             \u001b[1;32mreturn\u001b[0m \u001b[0mfunc\u001b[0m\u001b[1;33m(\u001b[0m\u001b[1;33m*\u001b[0m\u001b[0margs\u001b[0m\u001b[1;33m,\u001b[0m \u001b[1;33m**\u001b[0m\u001b[0mkwargs\u001b[0m\u001b[1;33m)\u001b[0m\u001b[1;33m\u001b[0m\u001b[1;33m\u001b[0m\u001b[0m\n\u001b[0m\u001b[0;32m    312\u001b[0m \u001b[1;33m\u001b[0m\u001b[0m\n\u001b[0;32m    313\u001b[0m         \u001b[1;32mreturn\u001b[0m \u001b[0mwrapper\u001b[0m\u001b[1;33m\u001b[0m\u001b[1;33m\u001b[0m\u001b[0m\n",
      "\u001b[1;32mc:\\users\\hroha\\appdata\\local\\programs\\python\\python39\\lib\\site-packages\\pandas\\io\\parsers\\readers.py\u001b[0m in \u001b[0;36mread_csv\u001b[1;34m(filepath_or_buffer, sep, delimiter, header, names, index_col, usecols, squeeze, prefix, mangle_dupe_cols, dtype, engine, converters, true_values, false_values, skipinitialspace, skiprows, skipfooter, nrows, na_values, keep_default_na, na_filter, verbose, skip_blank_lines, parse_dates, infer_datetime_format, keep_date_col, date_parser, dayfirst, cache_dates, iterator, chunksize, compression, thousands, decimal, lineterminator, quotechar, quoting, doublequote, escapechar, comment, encoding, encoding_errors, dialect, error_bad_lines, warn_bad_lines, on_bad_lines, delim_whitespace, low_memory, memory_map, float_precision, storage_options)\u001b[0m\n\u001b[0;32m    584\u001b[0m     \u001b[0mkwds\u001b[0m\u001b[1;33m.\u001b[0m\u001b[0mupdate\u001b[0m\u001b[1;33m(\u001b[0m\u001b[0mkwds_defaults\u001b[0m\u001b[1;33m)\u001b[0m\u001b[1;33m\u001b[0m\u001b[1;33m\u001b[0m\u001b[0m\n\u001b[0;32m    585\u001b[0m \u001b[1;33m\u001b[0m\u001b[0m\n\u001b[1;32m--> 586\u001b[1;33m     \u001b[1;32mreturn\u001b[0m \u001b[0m_read\u001b[0m\u001b[1;33m(\u001b[0m\u001b[0mfilepath_or_buffer\u001b[0m\u001b[1;33m,\u001b[0m \u001b[0mkwds\u001b[0m\u001b[1;33m)\u001b[0m\u001b[1;33m\u001b[0m\u001b[1;33m\u001b[0m\u001b[0m\n\u001b[0m\u001b[0;32m    587\u001b[0m \u001b[1;33m\u001b[0m\u001b[0m\n\u001b[0;32m    588\u001b[0m \u001b[1;33m\u001b[0m\u001b[0m\n",
      "\u001b[1;32mc:\\users\\hroha\\appdata\\local\\programs\\python\\python39\\lib\\site-packages\\pandas\\io\\parsers\\readers.py\u001b[0m in \u001b[0;36m_read\u001b[1;34m(filepath_or_buffer, kwds)\u001b[0m\n\u001b[0;32m    486\u001b[0m \u001b[1;33m\u001b[0m\u001b[0m\n\u001b[0;32m    487\u001b[0m     \u001b[1;32mwith\u001b[0m \u001b[0mparser\u001b[0m\u001b[1;33m:\u001b[0m\u001b[1;33m\u001b[0m\u001b[1;33m\u001b[0m\u001b[0m\n\u001b[1;32m--> 488\u001b[1;33m         \u001b[1;32mreturn\u001b[0m \u001b[0mparser\u001b[0m\u001b[1;33m.\u001b[0m\u001b[0mread\u001b[0m\u001b[1;33m(\u001b[0m\u001b[0mnrows\u001b[0m\u001b[1;33m)\u001b[0m\u001b[1;33m\u001b[0m\u001b[1;33m\u001b[0m\u001b[0m\n\u001b[0m\u001b[0;32m    489\u001b[0m \u001b[1;33m\u001b[0m\u001b[0m\n\u001b[0;32m    490\u001b[0m \u001b[1;33m\u001b[0m\u001b[0m\n",
      "\u001b[1;32mc:\\users\\hroha\\appdata\\local\\programs\\python\\python39\\lib\\site-packages\\pandas\\io\\parsers\\readers.py\u001b[0m in \u001b[0;36mread\u001b[1;34m(self, nrows)\u001b[0m\n\u001b[0;32m   1045\u001b[0m     \u001b[1;32mdef\u001b[0m \u001b[0mread\u001b[0m\u001b[1;33m(\u001b[0m\u001b[0mself\u001b[0m\u001b[1;33m,\u001b[0m \u001b[0mnrows\u001b[0m\u001b[1;33m=\u001b[0m\u001b[1;32mNone\u001b[0m\u001b[1;33m)\u001b[0m\u001b[1;33m:\u001b[0m\u001b[1;33m\u001b[0m\u001b[1;33m\u001b[0m\u001b[0m\n\u001b[0;32m   1046\u001b[0m         \u001b[0mnrows\u001b[0m \u001b[1;33m=\u001b[0m \u001b[0mvalidate_integer\u001b[0m\u001b[1;33m(\u001b[0m\u001b[1;34m\"nrows\"\u001b[0m\u001b[1;33m,\u001b[0m \u001b[0mnrows\u001b[0m\u001b[1;33m)\u001b[0m\u001b[1;33m\u001b[0m\u001b[1;33m\u001b[0m\u001b[0m\n\u001b[1;32m-> 1047\u001b[1;33m         \u001b[0mindex\u001b[0m\u001b[1;33m,\u001b[0m \u001b[0mcolumns\u001b[0m\u001b[1;33m,\u001b[0m \u001b[0mcol_dict\u001b[0m \u001b[1;33m=\u001b[0m \u001b[0mself\u001b[0m\u001b[1;33m.\u001b[0m\u001b[0m_engine\u001b[0m\u001b[1;33m.\u001b[0m\u001b[0mread\u001b[0m\u001b[1;33m(\u001b[0m\u001b[0mnrows\u001b[0m\u001b[1;33m)\u001b[0m\u001b[1;33m\u001b[0m\u001b[1;33m\u001b[0m\u001b[0m\n\u001b[0m\u001b[0;32m   1048\u001b[0m \u001b[1;33m\u001b[0m\u001b[0m\n\u001b[0;32m   1049\u001b[0m         \u001b[1;32mif\u001b[0m \u001b[0mindex\u001b[0m \u001b[1;32mis\u001b[0m \u001b[1;32mNone\u001b[0m\u001b[1;33m:\u001b[0m\u001b[1;33m\u001b[0m\u001b[1;33m\u001b[0m\u001b[0m\n",
      "\u001b[1;32mc:\\users\\hroha\\appdata\\local\\programs\\python\\python39\\lib\\site-packages\\pandas\\io\\parsers\\c_parser_wrapper.py\u001b[0m in \u001b[0;36mread\u001b[1;34m(self, nrows)\u001b[0m\n\u001b[0;32m    221\u001b[0m         \u001b[1;32mtry\u001b[0m\u001b[1;33m:\u001b[0m\u001b[1;33m\u001b[0m\u001b[1;33m\u001b[0m\u001b[0m\n\u001b[0;32m    222\u001b[0m             \u001b[1;32mif\u001b[0m \u001b[0mself\u001b[0m\u001b[1;33m.\u001b[0m\u001b[0mlow_memory\u001b[0m\u001b[1;33m:\u001b[0m\u001b[1;33m\u001b[0m\u001b[1;33m\u001b[0m\u001b[0m\n\u001b[1;32m--> 223\u001b[1;33m                 \u001b[0mchunks\u001b[0m \u001b[1;33m=\u001b[0m \u001b[0mself\u001b[0m\u001b[1;33m.\u001b[0m\u001b[0m_reader\u001b[0m\u001b[1;33m.\u001b[0m\u001b[0mread_low_memory\u001b[0m\u001b[1;33m(\u001b[0m\u001b[0mnrows\u001b[0m\u001b[1;33m)\u001b[0m\u001b[1;33m\u001b[0m\u001b[1;33m\u001b[0m\u001b[0m\n\u001b[0m\u001b[0;32m    224\u001b[0m                 \u001b[1;31m# destructive to chunks\u001b[0m\u001b[1;33m\u001b[0m\u001b[1;33m\u001b[0m\u001b[1;33m\u001b[0m\u001b[0m\n\u001b[0;32m    225\u001b[0m                 \u001b[0mdata\u001b[0m \u001b[1;33m=\u001b[0m \u001b[0m_concatenate_chunks\u001b[0m\u001b[1;33m(\u001b[0m\u001b[0mchunks\u001b[0m\u001b[1;33m)\u001b[0m\u001b[1;33m\u001b[0m\u001b[1;33m\u001b[0m\u001b[0m\n",
      "\u001b[1;32mc:\\users\\hroha\\appdata\\local\\programs\\python\\python39\\lib\\site-packages\\pandas\\_libs\\parsers.pyx\u001b[0m in \u001b[0;36mpandas._libs.parsers.TextReader.read_low_memory\u001b[1;34m()\u001b[0m\n",
      "\u001b[1;32mc:\\users\\hroha\\appdata\\local\\programs\\python\\python39\\lib\\site-packages\\pandas\\_libs\\parsers.pyx\u001b[0m in \u001b[0;36mpandas._libs.parsers.TextReader._read_rows\u001b[1;34m()\u001b[0m\n",
      "\u001b[1;32mc:\\users\\hroha\\appdata\\local\\programs\\python\\python39\\lib\\site-packages\\pandas\\_libs\\parsers.pyx\u001b[0m in \u001b[0;36mpandas._libs.parsers.TextReader._tokenize_rows\u001b[1;34m()\u001b[0m\n",
      "\u001b[1;32mc:\\users\\hroha\\appdata\\local\\programs\\python\\python39\\lib\\site-packages\\pandas\\_libs\\parsers.pyx\u001b[0m in \u001b[0;36mpandas._libs.parsers.raise_parser_error\u001b[1;34m()\u001b[0m\n",
      "\u001b[1;31mParserError\u001b[0m: Error tokenizing data. C error: Calling read(nbytes) on source failed. Try engine='python'."
     ]
    }
   ],
   "source": [
    "df=pd.read_csv('steam_reviews.csv')"
   ]
  },
  {
   "cell_type": "code",
   "execution_count": 57,
   "id": "67b36048",
   "metadata": {},
   "outputs": [],
   "source": [
    "df=df[(df['language']=='english')]"
   ]
  },
  {
   "cell_type": "code",
   "execution_count": 58,
   "id": "64180332",
   "metadata": {},
   "outputs": [],
   "source": [
    "list_of_games= ['Grand Theft Auto V', '''Tom Clancy's Rainbow Six Siege''', 'Dead by Daylight', 'Among Us', '''PLAYERUNKNOWN'S BATTLEGROUNDS''']"
   ]
  },
  {
   "cell_type": "code",
   "execution_count": 70,
   "id": "78b49e93",
   "metadata": {},
   "outputs": [],
   "source": [
    "df_filtered_games=df[df['app_name'].isin(list_of_games)]"
   ]
  },
  {
   "cell_type": "code",
   "execution_count": 71,
   "id": "8f96eb71",
   "metadata": {},
   "outputs": [],
   "source": [
    "val_counts=df_filtered_games.groupby(['app_name']).size().sort_values(ascending=False)"
   ]
  },
  {
   "cell_type": "code",
   "execution_count": 74,
   "id": "e2cf73b7",
   "metadata": {},
   "outputs": [],
   "source": [
    "list=df_filtered_games['timestamp_updated']\n",
    "list_of_timestamp=[int(ele) for ele in list]"
   ]
  },
  {
   "cell_type": "code",
   "execution_count": 75,
   "id": "dc207cdb",
   "metadata": {},
   "outputs": [],
   "source": [
    "list_of_time= [datetime.utcfromtimestamp(element).strftime('%Y-%m-%d') for element in list_of_timestamp]"
   ]
  },
  {
   "cell_type": "code",
   "execution_count": 77,
   "id": "088d5b64",
   "metadata": {},
   "outputs": [],
   "source": [
    "df_new=df_filtered_games"
   ]
  },
  {
   "cell_type": "code",
   "execution_count": 78,
   "id": "83f685e3",
   "metadata": {
    "scrolled": true
   },
   "outputs": [
    {
     "name": "stderr",
     "output_type": "stream",
     "text": [
      "C:\\Users\\hroha\\AppData\\Local\\Temp/ipykernel_5596/2798180641.py:1: SettingWithCopyWarning: \n",
      "A value is trying to be set on a copy of a slice from a DataFrame.\n",
      "Try using .loc[row_indexer,col_indexer] = value instead\n",
      "\n",
      "See the caveats in the documentation: https://pandas.pydata.org/pandas-docs/stable/user_guide/indexing.html#returning-a-view-versus-a-copy\n",
      "  df_new['date'] = list_of_time\n"
     ]
    }
   ],
   "source": [
    "df_new['date'] = list_of_time "
   ]
  },
  {
   "cell_type": "code",
   "execution_count": null,
   "id": "bd74b564",
   "metadata": {},
   "outputs": [],
   "source": [
    "from nltk import tokenize\n",
    "from nltk.sentiment.vader import SentimentIntensityAnalyzer\n",
    "\n",
    "lines_list = list(sr[\"review\"])\n",
    "\n",
    "sid=SentimentIntensityAnalyzer()\n",
    "sslist = []\n",
    "for review in lines_list:\n",
    "    sslist.append(sid.polarity_scores(str(review))[\"compound\"])"
   ]
  },
  {
   "cell_type": "code",
   "execution_count": null,
   "id": "4c64a738",
   "metadata": {},
   "outputs": [],
   "source": [
    "df_new[\"sentiment score\"] = sslist"
   ]
  },
  {
   "cell_type": "code",
   "execution_count": 420,
   "id": "34cbab40",
   "metadata": {},
   "outputs": [],
   "source": [
    "df_GTA=sr[sr[\"app_name\"] == \"Grand Theft Auto V\"].groupby([\"app_name\", \"date\"]).agg({\"sentiment score\": \"mean\"})\n",
    "\n",
    "df_DBD=sr[sr[\"app_name\"] == \"Dead by Daylight\"].groupby([\"app_name\", \"date\"]).agg({\"sentiment score\": \"mean\"})\n",
    "\n",
    "df_PUBG=sr[sr[\"app_name\"] == \"PLAYERUNKNOWN'S BATTLEGROUNDS\"].groupby([\"app_name\", \"date\"]).agg({\"sentiment score\": \"mean\"})\n",
    "\n",
    "df_RSS=sr[sr[\"app_name\"] == \"Tom Clancy's Rainbow Six Siege\"].groupby([\"app_name\", \"date\"]).agg({\"sentiment score\": \"mean\"})\n",
    "\n",
    "df_AU=sr[sr[\"app_name\"] == \"Among Us\"].groupby([\"app_name\", \"date\"]).agg({\"sentiment score\": \"mean\"})"
   ]
  },
  {
   "cell_type": "code",
   "execution_count": 421,
   "id": "29a46d46",
   "metadata": {},
   "outputs": [],
   "source": [
    "df_GTA_chart=pd.read_csv('chart_GTA5.csv')\n",
    "df_GTA_final=pd.merge( df_GTA_chart, df_GTA , on='date')\n",
    "\n",
    "df_DBD_chart=pd.read_csv('chart_DBD.csv')\n",
    "df_DBD_final=pd.merge( df_DBD_chart,df_DBD , on='date')\n",
    "\n",
    "df_RSS_chart=pd.read_csv('chart_RSS.csv')\n",
    "df_RSS_final=pd.merge( df_RSS_chart, df_RSS , on='date')\n",
    "\n",
    "df_AU_chart=pd.read_csv('chartAU.csv')\n",
    "df_AU_final=pd.merge( df_AU_chart, df_AU , on='date')\n",
    "\n",
    "df_PUBG_chart=pd.read_csv('chart_PUBG.csv')\n",
    "df_PUBG_final=pd.merge( df_PUBG_chart, df_PUBG , on='date')"
   ]
  },
  {
   "cell_type": "code",
   "execution_count": 426,
   "id": "1733d434",
   "metadata": {},
   "outputs": [],
   "source": [
    "df_AU_final['cumsum']=df_AU_final['sentiment score'].expanding().mean()\n",
    "\n",
    "df_DBD_final['cumsum']=df_DBD_final['sentiment score'].expanding().mean()\n",
    "\n",
    "df_RSS_final['cumsum']=df_RSS_final['sentiment score'].expanding().mean()\n",
    "\n",
    "df_PUBG_final['cumsum']=df_PUBG_final['sentiment score'].expanding().mean()\n",
    "\n",
    "df_GTA_final['cumsum']=df_GTA_final['sentiment score'].expanding().mean()"
   ]
  },
  {
   "cell_type": "code",
   "execution_count": 431,
   "id": "61b57797",
   "metadata": {},
   "outputs": [],
   "source": [
    "df_some=[df_GTA_final,df_DBD_final, df_PUBG_final, df_RSS_final, df_AU_final]\n",
    "df_final= pd.concat(df_some)\n",
    "df_final = df_final[df_final['Players'].notna()]\n",
    "df_final = df_final[df_final['Twitch Viewers'].notna()]"
   ]
  },
  {
   "cell_type": "code",
   "execution_count": 436,
   "id": "03c494ce",
   "metadata": {},
   "outputs": [],
   "source": [
    "df_final.to_csv('Final Data.csv')"
   ]
  },
  {
   "cell_type": "code",
   "execution_count": 453,
   "id": "9c42c3b6",
   "metadata": {},
   "outputs": [],
   "source": [
    "gta_sum = df[df[\"app_name\"] == \"Grand Theft Auto V\"].agg({\"author.playtime_forever\": \"sum\"})[0]\n",
    "rss_sum = df[df[\"app_name\"] == \"Tom Clancy's Rainbow Six Siege\"].agg({\"author.playtime_forever\": \"sum\"})[0]\n",
    "dbd_sum = df[df[\"app_name\"] == \"Dead by Daylight\"].agg({\"author.playtime_forever\": \"sum\"})[0]\n",
    "au_sum = df[df[\"app_name\"] == \"Among Us\"].agg({\"author.playtime_forever\": \"sum\"})[0]\n",
    "pubg_sum = df[df[\"app_name\"] == \"PLAYERUNKNOWN'S BATTLEGROUNDS\"].agg({\"author.playtime_forever\": \"sum\"})[0]"
   ]
  },
  {
   "cell_type": "code",
   "execution_count": 457,
   "id": "34bd25a1",
   "metadata": {},
   "outputs": [],
   "source": [
    "hoursDF = pd.DataFrame({\"app_name\": [\"Grand Theft Auto V\", \"Tom Clancy's Rainbow Six Siege\", \"Dead by Daylight\", \"Among Us\", \"PLAYERUNKNOWN'S BATTLEGROUNDS\"], \"hours\": [gta_sum, rss_sum, dbd_sum, au_sum, pubg_sum]})"
   ]
  }
 ],
 "metadata": {
  "kernelspec": {
   "display_name": "Python 3",
   "language": "python",
   "name": "python3"
  },
  "language_info": {
   "codemirror_mode": {
    "name": "ipython",
    "version": 3
   },
   "file_extension": ".py",
   "mimetype": "text/x-python",
   "name": "python",
   "nbconvert_exporter": "python",
   "pygments_lexer": "ipython3",
   "version": "3.8.8"
  }
 },
 "nbformat": 4,
 "nbformat_minor": 5
}
