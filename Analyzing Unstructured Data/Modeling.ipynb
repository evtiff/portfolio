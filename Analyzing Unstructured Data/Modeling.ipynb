{
 "cells": [
  {
   "cell_type": "markdown",
   "id": "05e22db1",
   "metadata": {},
   "source": [
    "# Model Fitting and Testing"
   ]
  },
  {
   "cell_type": "markdown",
   "id": "f92419ed",
   "metadata": {},
   "source": [
    "### Importing Data"
   ]
  },
  {
   "cell_type": "code",
   "execution_count": 132,
   "id": "a23d051e",
   "metadata": {},
   "outputs": [],
   "source": [
    "import pandas as pd\n",
    "\n",
    "data = pd.read_csv(\"allcleanwithbrand.csv\")\n",
    "data[\"review\"] = data[\"title\"] + data[\"desc\"]\n",
    "data[\"review\"] = data[\"review\"].fillna(\"\")"
   ]
  },
  {
   "cell_type": "code",
   "execution_count": 162,
   "id": "61502023",
   "metadata": {},
   "outputs": [],
   "source": [
    "from sklearn.model_selection import train_test_split\n",
    "training_x, testing_x, train_y, test_y = train_test_split(data[\"review\"], data[\"Brand\"], test_size = 0.25, random_state = 12)\n"
   ]
  },
  {
   "cell_type": "code",
   "execution_count": 134,
   "id": "d7c82d67",
   "metadata": {},
   "outputs": [
    {
     "name": "stdout",
     "output_type": "stream",
     "text": [
      "Sony         777\n",
      "Nintendo     560\n",
      "Microsoft    486\n",
      "Other        274\n",
      "Arcade       131\n",
      "Meta          30\n",
      "Name: Brand, dtype: int64\n",
      "Sony         235\n",
      "Nintendo     195\n",
      "Microsoft    157\n",
      "Other        106\n",
      "Arcade        46\n",
      "Meta          14\n",
      "Name: Brand, dtype: int64\n"
     ]
    }
   ],
   "source": [
    "print(training_y.value_counts())\n",
    "print(testing_y.value_counts())"
   ]
  },
  {
   "cell_type": "code",
   "execution_count": 135,
   "id": "c6f58f2f",
   "metadata": {},
   "outputs": [],
   "source": [
    "import nltk\n",
    "from nltk.corpus import stopwords\n",
    "from sklearn.feature_extraction.text import TfidfVectorizer\n",
    "\n",
    "lemmatizer = nltk.stem.WordNetLemmatizer()\n",
    "tokencomp = []\n",
    "for review in list(training_x):\n",
    "    tokens = nltk.word_tokenize(str(review).lower())\n",
    "    lemmatized_token = [lemmatizer.lemmatize(token) for token in tokens if token.isalnum()]\n",
    "    tokencomp.append([token for token in lemmatized_token if token not in stopwords.words('english')])\n",
    "\n",
    "comp = []\n",
    "for review in tokencomp:\n",
    "    comp.append(\" \".join(review))\n",
    "vectorizer = TfidfVectorizer(ngram_range = (1,2), min_df = 2)\n",
    "vectorizer.fit(comp)\n",
    "\n",
    "train_x = vectorizer.transform(training_x)\n",
    "test_x = vectorizer.transform(testing_x)"
   ]
  },
  {
   "cell_type": "markdown",
   "id": "4f9e3d45",
   "metadata": {},
   "source": [
    "### Naive Bayes"
   ]
  },
  {
   "cell_type": "code",
   "execution_count": 136,
   "id": "2519fdc0",
   "metadata": {},
   "outputs": [
    {
     "name": "stdout",
     "output_type": "stream",
     "text": [
      "Naive Bayes model Accuracy:: 73.97%\n"
     ]
    }
   ],
   "source": [
    "from sklearn.naive_bayes import MultinomialNB\n",
    "from sklearn.metrics import accuracy_score\n",
    "NBmodel = MultinomialNB()\n",
    "\n",
    "NBmodel.fit(train_x, train_y)\n",
    "y_pred_NB = NBmodel.predict(test_x)\n",
    "\n",
    "acc_NB = accuracy_score(test_y, y_pred_NB)\n",
    "print(\"Naive Bayes model Accuracy:: {:.2f}%\".format(acc_NB*100))"
   ]
  },
  {
   "cell_type": "markdown",
   "id": "8a924514",
   "metadata": {},
   "source": [
    "### Logistic Model"
   ]
  },
  {
   "cell_type": "code",
   "execution_count": 137,
   "id": "a562db87",
   "metadata": {},
   "outputs": [
    {
     "name": "stdout",
     "output_type": "stream",
     "text": [
      "Logit model Accuracy:: 84.99%\n"
     ]
    }
   ],
   "source": [
    "from sklearn.linear_model import LogisticRegression\n",
    "Logitmodel = LogisticRegression()\n",
    "\n",
    "Logitmodel.fit(train_x, train_y)\n",
    "y_pred_logit = Logitmodel.predict(test_x)\n",
    "\n",
    "acc_logit = accuracy_score(test_y, y_pred_logit)\n",
    "print(\"Logit model Accuracy:: {:.2f}%\".format(acc_logit*100))"
   ]
  },
  {
   "cell_type": "markdown",
   "id": "0fb917bd",
   "metadata": {},
   "source": [
    "### Random Forest"
   ]
  },
  {
   "cell_type": "code",
   "execution_count": 138,
   "id": "79f9ba00",
   "metadata": {},
   "outputs": [
    {
     "name": "stdout",
     "output_type": "stream",
     "text": [
      "Random Forest Model Accuracy: 63.75%\n"
     ]
    }
   ],
   "source": [
    "from sklearn.ensemble import RandomForestClassifier\n",
    "\n",
    "RFmodel = RandomForestClassifier(n_estimators=50, max_depth=6, bootstrap=True, random_state=0)\n",
    "\n",
    "RFmodel.fit(train_x, train_y)\n",
    "y_pred_RF = RFmodel.predict(test_x)\n",
    "\n",
    "acc_RF = accuracy_score(test_y, y_pred_RF)\n",
    "print(\"Random Forest Model Accuracy: {:.2f}%\".format(acc_RF*100))"
   ]
  },
  {
   "cell_type": "markdown",
   "id": "383540c6",
   "metadata": {},
   "source": [
    "### SVC Model"
   ]
  },
  {
   "cell_type": "code",
   "execution_count": 139,
   "id": "d4697038",
   "metadata": {},
   "outputs": [
    {
     "name": "stdout",
     "output_type": "stream",
     "text": [
      "SVM model Accuracy: 88.45%\n"
     ]
    }
   ],
   "source": [
    "from sklearn.svm import LinearSVC\n",
    "SVMmodel = LinearSVC()\n",
    "\n",
    "SVMmodel.fit(train_x, train_y)\n",
    "y_pred_SVM = SVMmodel.predict(test_x)\n",
    "\n",
    "acc_SVM = accuracy_score(test_y, y_pred_SVM)\n",
    "print(\"SVM model Accuracy: {:.2f}%\".format(acc_SVM*100))"
   ]
  },
  {
   "cell_type": "markdown",
   "id": "8e076c89",
   "metadata": {},
   "source": [
    "### Neural Network"
   ]
  },
  {
   "cell_type": "code",
   "execution_count": 140,
   "id": "15afdb10",
   "metadata": {},
   "outputs": [
    {
     "name": "stdout",
     "output_type": "stream",
     "text": [
      "DL model Accuracy: 73.97%\n"
     ]
    },
    {
     "name": "stderr",
     "output_type": "stream",
     "text": [
      "C:\\Users\\evant\\anaconda3\\lib\\site-packages\\sklearn\\neural_network\\_multilayer_perceptron.py:500: ConvergenceWarning: lbfgs failed to converge (status=1):\n",
      "STOP: TOTAL NO. of ITERATIONS REACHED LIMIT.\n",
      "\n",
      "Increase the number of iterations (max_iter) or scale the data as shown in:\n",
      "    https://scikit-learn.org/stable/modules/preprocessing.html\n",
      "  self.n_iter_ = _check_optimize_result(\"lbfgs\", opt_res, self.max_iter)\n"
     ]
    }
   ],
   "source": [
    "from sklearn.neural_network import MLPClassifier\n",
    "DLmodel = MLPClassifier(solver='lbfgs', hidden_layer_sizes=(3,2), random_state=1)\n",
    "\n",
    "DLmodel.fit(train_x, train_y)\n",
    "y_pred_DL= DLmodel.predict(test_x)\n",
    "\n",
    "acc_DL = accuracy_score(test_y, y_pred_DL)\n",
    "print(\"DL model Accuracy: {:.2f}%\".format(acc_DL*100))"
   ]
  },
  {
   "cell_type": "markdown",
   "id": "0cb22902",
   "metadata": {},
   "source": [
    "### Recurring Neural Network"
   ]
  },
  {
   "cell_type": "code",
   "execution_count": 169,
   "id": "6c0c5416",
   "metadata": {},
   "outputs": [],
   "source": [
    "import numpy as np \n",
    "\n",
    "docs_x = []\n",
    "docs_train_x = []\n",
    "docs_test_x = []\n",
    "for review in training_x:\n",
    "    docs_x.append(nltk.word_tokenize(str(review).lower()))\n",
    "    docs_train_x.append(nltk.word_tokenize(str(review).lower()))\n",
    "for review in testing_x:\n",
    "    docs_x.append(nltk.word_tokenize(str(review).lower()))\n",
    "    docs_test_x.append(nltk.word_tokenize(str(review).lower()))\n",
    "\n",
    "from collections import Counter\n",
    "words = [j for i in docs_x for j in i]\n",
    "count_words = Counter(words)\n",
    "total_words = len(words)\n",
    "sorted_words = count_words.most_common(total_words)\n",
    "vocab_to_int = {w: i+1 for i, (w,c) in enumerate(sorted_words)} \n",
    "\n",
    "text_int = []\n",
    "for i in docs_train_x:\n",
    "    r = [vocab_to_int[w] for w in i]\n",
    "    text_int.append(r)\n",
    "\n",
    "\n",
    "text_test_int = []\n",
    "for i in docs_test_x:\n",
    "    r = [vocab_to_int[w] for w in i]\n",
    "    text_test_int.append(r)\n",
    "    \n"
   ]
  },
  {
   "cell_type": "code",
   "execution_count": 184,
   "id": "30c01523",
   "metadata": {
    "scrolled": true
   },
   "outputs": [
    {
     "name": "stdout",
     "output_type": "stream",
     "text": [
      "Epoch 1/2\n",
      "71/71 [==============================] - 32s 417ms/step - loss: 0.0000e+00 - accuracy: 0.2493 - val_loss: 0.0000e+00 - val_accuracy: 0.2590\n",
      "Epoch 2/2\n",
      "71/71 [==============================] - 27s 379ms/step - loss: 0.0000e+00 - accuracy: 0.2480 - val_loss: 0.0000e+00 - val_accuracy: 0.2590\n"
     ]
    },
    {
     "data": {
      "text/plain": [
       "<keras.callbacks.History at 0x2126446d040>"
      ]
     },
     "execution_count": 184,
     "metadata": {},
     "output_type": "execute_result"
    }
   ],
   "source": [
    "from keras.preprocessing import sequence \n",
    "from keras.models import Sequential \n",
    "from keras.layers import Dense, Embedding, Flatten \n",
    "from keras.layers import LSTM\n",
    "max_features = total_words\n",
    "maxlen = 250\n",
    "batch_size = 32\n",
    "\n",
    "x_train = sequence.pad_sequences(text_int, maxlen=maxlen)\n",
    "x_test = sequence.pad_sequences(text_test_int, maxlen=maxlen)\n",
    "\n",
    "encoded_train = [0 if label =='Sony' else 1 if label == \"Nintendo\" else 2 if label == \"Microsoft\" else 3 if label == \"Arcade\" else 4 if label == \"Meta\" else 5 for label in train_y]\n",
    "encoded_test = [0 if label =='Sony' else 1 if label == \"Nintendo\" else 2 if label == \"Microsoft\" else 3 if label == \"Arcade\" else 4 if label == \"Meta\" else 5 for label in test_y]\n",
    "\n",
    "model = Sequential()\n",
    "model.add(Embedding(max_features, 20, input_length=maxlen))\n",
    "model.add(LSTM(100, dropout=0.10, recurrent_dropout=0.10))\n",
    "model.add(Dense(1, activation='sigmoid'))\n",
    "model.compile(loss='categorical_crossentropy', optimizer='adam', metrics=['accuracy'])\n",
    "model.fit(x_train.tolist(), encoded_train, batch_size=batch_size, epochs=2, validation_data=(x_test.tolist(), encoded_test))"
   ]
  }
 ],
 "metadata": {
  "kernelspec": {
   "display_name": "Python 3",
   "language": "python",
   "name": "python3"
  },
  "language_info": {
   "codemirror_mode": {
    "name": "ipython",
    "version": 3
   },
   "file_extension": ".py",
   "mimetype": "text/x-python",
   "name": "python",
   "nbconvert_exporter": "python",
   "pygments_lexer": "ipython3",
   "version": "3.8.8"
  }
 },
 "nbformat": 4,
 "nbformat_minor": 5
}
